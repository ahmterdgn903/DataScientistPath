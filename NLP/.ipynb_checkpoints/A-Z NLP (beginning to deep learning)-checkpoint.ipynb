{
 "cells": [
  {
   "cell_type": "markdown",
   "metadata": {},
   "source": [
    "# NLP\n",
    "## Icerik\n",
    "\n",
    "NLP nedir?\n",
    "\n",
    "NLTK ile NLP\n",
    " - tokenlar\n",
    " - stopwords\n",
    " - stemming\n",
    " - part of speching\n",
    " - Named entity recogration\n",
    " - lemmatizing\n",
    " - corpus ve corpora\n",
    "\n",
    "vectorization/word embeddings-CountVectorizer\n",
    "\n",
    "vectorizer (TfidfVectorizer)/Term Frequency-Inverse Doc Freq/\n",
    " "
   ]
  },
  {
   "cell_type": "markdown",
   "metadata": {},
   "source": [
    "## Natural Language Processing yani Doagal Dil Isleme Nedir?"
   ]
  },
  {
   "cell_type": "markdown",
   "metadata": {},
   "source": [
    "Makine Dilleri ve Dogal Dil Nedir?\n",
    "Makine dilleri en basta C olmak uzere C++, Java, Python vb. az sayida kelimeden olusup herseyin belli kurallara bagli oldugu dildir. Bu diller ile bisey yapmak istediginizde yazdigunuz kodun/kurallar sirasinin tamamen dogru olmasi lazim aksi taktirde bu kod calismayacaktir. Dogal dil ise tamamen farklidir. Dogal dil makinelerin degil insanlarin kullandigi dillerdir. Cok fazla kelimeden olusur. Belli kurallari olsada konusurken yuzde yuz bu kuarallara uymasanizda konusabilirsiniz.\n",
    "\n",
    "Dogal dil isleme insana ozgu dillerin arastirilip incelendigi bilim dalidir. Insana ozgu dillerin gerek metin olarak gerek kaydetme yolu ile makine tanitilip makinen anlayabilecegi sekle getirmek ve sonrasinda makinanin buna yonelim islemler yapabilmesidir.\n",
    "\n",
    "Dogal dil isleme Yapay Zekanin spesifik alt alanlarindan biridir. Daha oncelerin normal makine dilleri gibi kural tabanliydi ama makine ogrenmesi ve derin ogrenme metotlarinin gelismesi ile kurallardan uzaklasmaya ve daha cok insan diline yaklasmaya baslandi. Bunlarin en bariz orneklerinden birisi Siri, Amazon Alexa, Google Assistan, Chatbotlar vb.\n",
    "\n",
    "\n",
    "Dogal Dil Isleme Kullanim Alanlari\n",
    "- Yazim denetimi/es anlam bulma/ otomatik duzeltme: herkesin telefonunda bulunan otomatik duzeltme, hatta eskilerin T9 u\n",
    "- Arama motorlari: Google Yahoo gibi guclu arama motorlarinin aradiginiz seyi bulmaniza yardimci olmasi hatta eksik veya yanlis yazsaniz bile size dogruyu gostermesi.\n",
    "- Sosyal Media/Network destekleri: Sosyak medya veya ortamlarin neredeyse tamaminda bulunan bu ozellik hepinizin karsisina cikmistir farkinda olmasaniz bile. Ornegin Facebook Twitter vb gibi sosyal medya araclari sizin paylasimlarinizdan, takip ettiginiz kisi sayfa veya gruplardan ilgilendiginiz iliginizi ceken seyleri bulup ona gore size yeni seyler gosteriyor olmasi.\n",
    "- Konusma Motorlari: Apple Siri, Google Assistan, Amazon Alexa vb. \n",
    "- Chatbotlar: ozellikle bankacilik sektorunde kullanilan otomatik soru cevap sistemleri.\n",
    "- Metin Siniflandirma: Spam mesaj ya da mail analizi, olumlu olumsuz donuslerden duygu analizi.\n",
    "- Makine Cevirleri: Google Translate vb.\n",
    "- Otomatik ozet veya konu cikarma.\n",
    "\n",
    "Sayamayacagimiz kadar kullanim alani bulunmakta ve gun gectikce kullanildigi alanlar cogalmakta ve gelismekte.\n",
    "\n",
    "\n",
    "### NLP Bilesenleri\n",
    "- A) NLU (Natural Language Understanding - Dogal Dil Anlayisi):\n",
    " Dogal dili makineye anlatma. NLU bilesenleri.\n",
    " Sözlük, Ayrıştırıcı ve Dilbilgisi kuralları.\n",
    " Anlamsal teori- anlama becerisi\n",
    "- B) NLG (Natural Language Generation - Dogal Dil Uretme)\n",
    " NLG doğal dil üretmekle ilgilenir. Bir bilgi tabanı veya mantıksal bir form gibi bir makine temsil sistemi kullanır. Bunu veri ve doğal dil temsili arasında bir çevirmen olarak düşünebilirsiniz; bu tam tersi veya NLU'dur. Bu üç görevden oluşur-\n",
    "\n",
    "Metin Planlama- Bilgi tabanından ilgili içeriği çıkarmak.\n",
    "Cümle Planlama- Uygun kelimeleri seçmek, anlamlı ifadeler oluşturmak ve cümle tonunu ayarlamak.\n",
    "Metin Gerçekleştirme - Cümle planını cümle yapısına eşlemek.\n",
    "\n",
    "\n",
    "### NLP Kutuphaneleri\n"
   ]
  },
  {
   "cell_type": "code",
   "execution_count": null,
   "metadata": {},
   "outputs": [],
   "source": []
  }
 ],
 "metadata": {
  "kernelspec": {
   "display_name": "Python 3",
   "language": "python",
   "name": "python3"
  },
  "language_info": {
   "codemirror_mode": {
    "name": "ipython",
    "version": 3
   },
   "file_extension": ".py",
   "mimetype": "text/x-python",
   "name": "python",
   "nbconvert_exporter": "python",
   "pygments_lexer": "ipython3",
   "version": "3.7.4"
  }
 },
 "nbformat": 4,
 "nbformat_minor": 2
}
