{
 "cells": [
  {
   "cell_type": "markdown",
   "metadata": {},
   "source": [
    "<h1>This notebook tracks the spread of the novel coronavirus, also known as SARS-CoV-2. It is a contagious respiratory virus that first started in Wuhan in December 2019. On 2/11/2020, the disease is officially named COVID-19 by the World Health Organization. \n",
    "    <br>Data: <a href='https://github.com/CSSEGISandData/COVID-19'>https://github.com/CSSEGISandData/COVID-19</a>. A big thank you to Johns Hopkins for providing the data.\n",
    "    <br>\n",
    "    <br>Learn more from the <a href='https://www.who.int/emergencies/diseases/novel-coronavirus-2019'>WHO</a>\n",
    "    <br>Learn more from the <a href='https://www.cdc.gov/coronavirus/2019-ncov'>CDC</a>\n",
    "    <br>Map Visualizations from  <a href='https://gisanddata.maps.arcgis.com/apps/opsdashboard/index.html#/bda7594740fd40299423467b48e9ecf6'>Johns Hopkins</a>\n",
    "    <br>Feel free to provide me with feedbacks. \n",
    "    <br> Last update: 3/12/2020 9:32 PM\n",
    "    <br> Make sure you run the notebook to see the graphs better. Some diagrams are hard to see in the default view. \n",
    "    <br> <a href='https://github.com/therealcyberlord'>Source code is on my Github</a>\n",
    "    \n",
    "</h1>\n",
    "\n",
    "<center><img src='https://newsfortomorrow.com/wp-content/uploads/2020/01/1578562454_Wuhan-pneumonia-New-coronavirus-related-to-SARS-idenitified.jpg'>\n",
    "* Source: https://newsfortomorrow.com/wp-content/uploads/2020/01/1578562454_Wuhan-pneumonia-New-coronavirus-related-to-SARS-idenitified.jpg </center>\n",
    "\n",
    "<h1>Keep strong, world!</h1>\n",
    "\n",
    "\n",
    "\n",
    "\n",
    "\n"
   ]
  },
  {
   "cell_type": "code",
   "execution_count": null,
   "metadata": {
    "_cell_guid": "b1076dfc-b9ad-4769-8c92-a6c4dae69d19",
    "_kg_hide-input": true,
    "_kg_hide-output": true,
    "_uuid": "8f2839f25d086af736a60e9eeb907d3b93b6e0e5"
   },
   "outputs": [],
   "source": [
    "import numpy as np \n",
    "import matplotlib.pyplot as plt \n",
    "import matplotlib.colors as mcolors\n",
    "import pandas as pd \n",
    "import random\n",
    "import math\n",
    "import time\n",
    "from sklearn.linear_model import LinearRegression, BayesianRidge\n",
    "from sklearn.model_selection import RandomizedSearchCV, train_test_split\n",
    "from sklearn.svm import SVR\n",
    "from sklearn.metrics import mean_squared_error, mean_absolute_error\n",
    "import datetime\n",
    "%matplotlib inline "
   ]
  },
  {
   "cell_type": "markdown",
   "metadata": {},
   "source": [
    "Import the data (make sure you update this on a daily basis)"
   ]
  },
  {
   "cell_type": "code",
   "execution_count": null,
   "metadata": {
    "_cell_guid": "",
    "_kg_hide-input": true,
    "_kg_hide-output": true,
    "_uuid": ""
   },
   "outputs": [],
   "source": [
    "confirmed_df = pd.read_csv('time_series_covid_19_confirmed.csv')\n",
    "deaths_df = pd.read_csv('time_series_covid_19_deaths.csv')\n",
    "recoveries_df = pd.read_csv('time_series_covid_19_recovered.csv')"
   ]
  },
  {
   "cell_type": "code",
   "execution_count": null,
   "metadata": {
    "_kg_hide-input": true,
    "_kg_hide-output": true
   },
   "outputs": [],
   "source": [
    "confirmed_df.head()"
   ]
  },
  {
   "cell_type": "code",
   "execution_count": null,
   "metadata": {
    "_kg_hide-input": true,
    "_kg_hide-output": true
   },
   "outputs": [],
   "source": [
    "cols = confirmed_df.keys()"
   ]
  },
  {
   "cell_type": "markdown",
   "metadata": {},
   "source": [
    "Get all the dates for the outbreak"
   ]
  },
  {
   "cell_type": "code",
   "execution_count": null,
   "metadata": {
    "_kg_hide-input": true,
    "_kg_hide-output": true
   },
   "outputs": [],
   "source": [
    "confirmed = confirmed_df.loc[:, cols[4]:cols[-1]]\n",
    "deaths = deaths_df.loc[:, cols[4]:cols[-1]]\n",
    "recoveries = recoveries_df.loc[:, cols[4]:cols[-1]]"
   ]
  },
  {
   "cell_type": "code",
   "execution_count": null,
   "metadata": {
    "_kg_hide-input": true,
    "_kg_hide-output": true
   },
   "outputs": [],
   "source": [
    "dates = confirmed.keys()\n",
    "world_cases = []\n",
    "total_deaths = [] \n",
    "mortality_rate = []\n",
    "total_recovered = [] \n",
    "\n",
    "for i in dates:\n",
    "    confirmed_sum = confirmed[i].sum()\n",
    "    death_sum = deaths[i].sum()\n",
    "    recovered_sum = recoveries[i].sum()\n",
    "    world_cases.append(confirmed_sum)\n",
    "    total_deaths.append(death_sum)\n",
    "    mortality_rate.append(death_sum/confirmed_sum)\n",
    "    total_recovered.append(recovered_sum)"
   ]
  },
  {
   "cell_type": "code",
   "execution_count": null,
   "metadata": {
    "_kg_hide-input": true,
    "_kg_hide-output": true
   },
   "outputs": [],
   "source": [
    "days_since_1_22 = np.array([i for i in range(len(dates))]).reshape(-1, 1)\n",
    "world_cases = np.array(world_cases).reshape(-1, 1)\n",
    "total_deaths = np.array(total_deaths).reshape(-1, 1)\n",
    "total_recovered = np.array(total_recovered).reshape(-1, 1)"
   ]
  },
  {
   "cell_type": "markdown",
   "metadata": {},
   "source": [
    "Future forcasting"
   ]
  },
  {
   "cell_type": "code",
   "execution_count": null,
   "metadata": {
    "_kg_hide-input": true,
    "_kg_hide-output": true
   },
   "outputs": [],
   "source": [
    "days_in_future = 5\n",
    "future_forcast = np.array([i for i in range(len(dates)+days_in_future)]).reshape(-1, 1)\n",
    "adjusted_dates = future_forcast[:-5]"
   ]
  },
  {
   "cell_type": "markdown",
   "metadata": {},
   "source": [
    "Convert integer into datetime for better visualization"
   ]
  },
  {
   "cell_type": "code",
   "execution_count": null,
   "metadata": {
    "_kg_hide-input": true,
    "_kg_hide-output": true
   },
   "outputs": [],
   "source": [
    "start = '1/22/2020'\n",
    "start_date = datetime.datetime.strptime(start, '%m/%d/%Y')\n",
    "future_forcast_dates = []\n",
    "for i in range(len(future_forcast)):\n",
    "    future_forcast_dates.append((start_date + datetime.timedelta(days=i)).strftime('%m/%d/%Y'))"
   ]
  },
  {
   "cell_type": "code",
   "execution_count": null,
   "metadata": {
    "_kg_hide-input": true,
    "_kg_hide-output": true
   },
   "outputs": [],
   "source": [
    "X_train_confirmed, X_test_confirmed, y_train_confirmed, y_test_confirmed = train_test_split(days_since_1_22, world_cases, test_size=0.3, shuffle=False) "
   ]
  },
  {
   "cell_type": "markdown",
   "metadata": {},
   "source": [
    "Model for predicting # of confirmed cases. I am using support vector machine, bayesian ridge , and linear regression in this example. "
   ]
  },
  {
   "cell_type": "code",
   "execution_count": null,
   "metadata": {
    "_kg_hide-input": true,
    "_kg_hide-output": true
   },
   "outputs": [],
   "source": [
    "kernel = ['linear', 'poly', 'sigmoid', 'rbf']\n",
    "c = [0.01, 0.1, 1, 10]\n",
    "gamma = [0.01, 0.1, 1]\n",
    "epsilon = [0.01, 0.1, 1]\n",
    "shrinking = [True, False]\n",
    "svm_grid = {'kernel': kernel, 'C': c, 'gamma' : gamma, 'epsilon': epsilon, 'shrinking' : shrinking}\n",
    "\n",
    "svm = SVR()\n",
    "svm_search = RandomizedSearchCV(svm, svm_grid, scoring='neg_mean_squared_error', cv=3, return_train_score=True, n_jobs=-1, n_iter=40, verbose=1)\n",
    "svm_search.fit(X_train_confirmed, y_train_confirmed)"
   ]
  },
  {
   "cell_type": "code",
   "execution_count": null,
   "metadata": {
    "_kg_hide-input": true,
    "_kg_hide-output": true
   },
   "outputs": [],
   "source": [
    "svm_search.best_params_"
   ]
  },
  {
   "cell_type": "code",
   "execution_count": null,
   "metadata": {
    "_kg_hide-input": true,
    "_kg_hide-output": true
   },
   "outputs": [],
   "source": [
    "svm_confirmed = svm_search.best_estimator_\n",
    "svm_pred = svm_confirmed.predict(future_forcast)"
   ]
  },
  {
   "cell_type": "code",
   "execution_count": null,
   "metadata": {
    "_kg_hide-input": true,
    "_kg_hide-output": true
   },
   "outputs": [],
   "source": [
    "# check against testing data\n",
    "svm_test_pred = svm_confirmed.predict(X_test_confirmed)\n",
    "plt.plot(svm_test_pred)\n",
    "plt.plot(y_test_confirmed)\n",
    "print('MAE:', mean_absolute_error(svm_test_pred, y_test_confirmed))\n",
    "print('MSE:',mean_squared_error(svm_test_pred, y_test_confirmed))"
   ]
  },
  {
   "cell_type": "code",
   "execution_count": null,
   "metadata": {
    "_kg_hide-input": true,
    "_kg_hide-output": true
   },
   "outputs": [],
   "source": [
    "linear_model = LinearRegression(normalize=True, fit_intercept=True)\n",
    "linear_model.fit(X_train_confirmed, y_train_confirmed)\n",
    "test_linear_pred = linear_model.predict(X_test_confirmed)\n",
    "linear_pred = linear_model.predict(future_forcast)\n",
    "print('MAE:', mean_absolute_error(test_linear_pred, y_test_confirmed))\n",
    "print('MSE:',mean_squared_error(test_linear_pred, y_test_confirmed))"
   ]
  },
  {
   "cell_type": "code",
   "execution_count": null,
   "metadata": {
    "_kg_hide-input": true,
    "_kg_hide-output": true
   },
   "outputs": [],
   "source": [
    "print(linear_model.coef_)\n",
    "print(linear_model.intercept_)"
   ]
  },
  {
   "cell_type": "code",
   "execution_count": null,
   "metadata": {
    "_kg_hide-input": true,
    "_kg_hide-output": true
   },
   "outputs": [],
   "source": [
    "plt.plot(y_test_confirmed)\n",
    "plt.plot(test_linear_pred)"
   ]
  },
  {
   "cell_type": "code",
   "execution_count": null,
   "metadata": {
    "_kg_hide-input": true,
    "_kg_hide-output": true
   },
   "outputs": [],
   "source": [
    "tol = [1e-4, 1e-3, 1e-2]\n",
    "alpha_1 = [1e-7, 1e-6, 1e-5, 1e-4]\n",
    "alpha_2 = [1e-7, 1e-6, 1e-5, 1e-4]\n",
    "lambda_1 = [1e-7, 1e-6, 1e-5, 1e-4]\n",
    "lambda_2 = [1e-7, 1e-6, 1e-5, 1e-4]\n",
    "\n",
    "bayesian_grid = {'tol': tol, 'alpha_1': alpha_1, 'alpha_2' : alpha_2, 'lambda_1': lambda_1, 'lambda_2' : lambda_2}\n",
    "\n",
    "bayesian = BayesianRidge()\n",
    "bayesian_search = RandomizedSearchCV(bayesian, bayesian_grid, scoring='neg_mean_squared_error', cv=3, return_train_score=True, n_jobs=-1, n_iter=40, verbose=1)\n",
    "bayesian_search.fit(X_train_confirmed, y_train_confirmed)"
   ]
  },
  {
   "cell_type": "code",
   "execution_count": null,
   "metadata": {
    "_kg_hide-input": true,
    "_kg_hide-output": true
   },
   "outputs": [],
   "source": [
    "bayesian_search.best_params_"
   ]
  },
  {
   "cell_type": "code",
   "execution_count": null,
   "metadata": {
    "_kg_hide-input": true,
    "_kg_hide-output": true
   },
   "outputs": [],
   "source": [
    "bayesian_confirmed = bayesian_search.best_estimator_\n",
    "test_bayesian_pred = bayesian_confirmed.predict(X_test_confirmed)\n",
    "bayesian_pred = bayesian_confirmed.predict(future_forcast)\n",
    "print('MAE:', mean_absolute_error(test_bayesian_pred, y_test_confirmed))\n",
    "print('MSE:',mean_squared_error(test_bayesian_pred, y_test_confirmed))"
   ]
  },
  {
   "cell_type": "code",
   "execution_count": null,
   "metadata": {
    "_kg_hide-input": true,
    "_kg_hide-output": true
   },
   "outputs": [],
   "source": [
    "plt.plot(y_test_confirmed)\n",
    "plt.plot(test_bayesian_pred)"
   ]
  },
  {
   "cell_type": "code",
   "execution_count": null,
   "metadata": {
    "_kg_hide-input": true,
    "_kg_hide-output": false
   },
   "outputs": [],
   "source": [
    "plt.figure(figsize=(20, 12))\n",
    "plt.plot(adjusted_dates, world_cases)\n",
    "plt.title('# of Coronavirus Cases Over Time', size=30)\n",
    "plt.xlabel('Days Since 1/22/2020', size=30)\n",
    "plt.ylabel('# of Cases', size=30)\n",
    "plt.xticks(size=15)\n",
    "plt.show()"
   ]
  },
  {
   "cell_type": "code",
   "execution_count": null,
   "metadata": {
    "_kg_hide-input": true,
    "_kg_hide-output": false
   },
   "outputs": [],
   "source": [
    "plt.figure(figsize=(20, 12))\n",
    "plt.plot(adjusted_dates, world_cases)\n",
    "plt.plot(future_forcast, svm_pred, linestyle='dashed')\n",
    "plt.title('# of Coronavirus Cases Over Time', size=30)\n",
    "plt.xlabel('Days Since 1/22/2020', size=30)\n",
    "plt.ylabel('# of Cases', size=30)\n",
    "plt.legend(['Confirmed Cases', 'SVM predictions'])\n",
    "plt.xticks(size=15)\n",
    "plt.show()"
   ]
  },
  {
   "cell_type": "code",
   "execution_count": null,
   "metadata": {
    "_kg_hide-input": true
   },
   "outputs": [],
   "source": [
    "plt.figure(figsize=(20, 12))\n",
    "plt.plot(adjusted_dates, world_cases)\n",
    "plt.plot(future_forcast, linear_pred, linestyle='dashed', color='red')\n",
    "plt.title('# of Coronavirus Cases Over Time', size=30)\n",
    "plt.xlabel('Days Since 1/22/2020', size=30)\n",
    "plt.ylabel('# of Cases', size=30)\n",
    "plt.legend(['Confirmed Cases', 'Linear Regression Predictions'])\n",
    "plt.xticks(size=15)\n",
    "plt.show()"
   ]
  },
  {
   "cell_type": "code",
   "execution_count": null,
   "metadata": {
    "_kg_hide-input": true,
    "_kg_hide-output": false
   },
   "outputs": [],
   "source": [
    "plt.figure(figsize=(20, 12))\n",
    "plt.plot(adjusted_dates, world_cases)\n",
    "plt.plot(future_forcast, bayesian_pred, linestyle='dashed', color='green')\n",
    "plt.title('# of Coronavirus Cases Over Time', size=30)\n",
    "plt.xlabel('Time', size=30)\n",
    "plt.ylabel('# of Cases', size=30)\n",
    "plt.legend(['Confirmed Cases', 'Bayesian Ridge Regression Predictions'])\n",
    "plt.xticks(size=15)\n",
    "plt.show()"
   ]
  },
  {
   "cell_type": "code",
   "execution_count": null,
   "metadata": {
    "_kg_hide-input": true
   },
   "outputs": [],
   "source": [
    "# Future predictions using SVM \n",
    "print('SVM future predictions:')\n",
    "set(zip(future_forcast_dates[-5:], svm_pred[-5:]))"
   ]
  },
  {
   "cell_type": "code",
   "execution_count": null,
   "metadata": {},
   "outputs": [],
   "source": [
    "# Future predictions using Linear Regression \n",
    "print('Ridge regression future predictions:')\n",
    "set(zip(future_forcast_dates[-5:], bayesian_pred[-5:]))"
   ]
  },
  {
   "cell_type": "code",
   "execution_count": null,
   "metadata": {
    "_kg_hide-input": true
   },
   "outputs": [],
   "source": [
    "# Future predictions using Linear Regression \n",
    "print('Linear regression future predictions:')\n",
    "print(linear_pred[-5:])"
   ]
  },
  {
   "cell_type": "markdown",
   "metadata": {},
   "source": [
    " Graphing the number of confirmed cases, deaths, and the mortality rate over time, as well as the number of recoveries"
   ]
  },
  {
   "cell_type": "code",
   "execution_count": null,
   "metadata": {
    "_kg_hide-input": true
   },
   "outputs": [],
   "source": [
    "plt.figure(figsize=(20, 12))\n",
    "plt.plot(adjusted_dates, total_deaths, color='red')\n",
    "plt.title('# of Coronavirus Deaths Over Time', size=30)\n",
    "plt.xlabel('Time', size=30)\n",
    "plt.ylabel('# of Deaths', size=30)\n",
    "plt.xticks(rotation=50, size=15)\n",
    "plt.show()"
   ]
  },
  {
   "cell_type": "code",
   "execution_count": null,
   "metadata": {
    "_kg_hide-input": true
   },
   "outputs": [],
   "source": [
    "mean_mortality_rate = np.mean(mortality_rate)\n",
    "plt.figure(figsize=(20, 12))\n",
    "plt.plot(adjusted_dates, mortality_rate, color='orange')\n",
    "plt.axhline(y = mean_mortality_rate,linestyle='--', color='black')\n",
    "plt.title('Mortality Rate of Coronavirus Over Time', size=30)\n",
    "plt.legend(['mortality rate', 'y='+str(mean_mortality_rate)])\n",
    "plt.xlabel('Time', size=30)\n",
    "plt.ylabel('Mortality Rate', size=30)\n",
    "plt.xticks(rotation=50, size=15)\n",
    "plt.show()"
   ]
  },
  {
   "cell_type": "code",
   "execution_count": null,
   "metadata": {
    "_kg_hide-input": true
   },
   "outputs": [],
   "source": [
    "plt.figure(figsize=(20, 12))\n",
    "plt.plot(adjusted_dates, total_recovered, color='green')\n",
    "plt.title('# of Coronavirus Cases Recovered Over Time', size=30)\n",
    "plt.xlabel('Time', size=30)\n",
    "plt.ylabel('# of Cases', size=30)\n",
    "plt.xticks(rotation=50, size=15)\n",
    "plt.show()"
   ]
  },
  {
   "cell_type": "markdown",
   "metadata": {},
   "source": [
    "Graphing the number of deaths and the number of recoveries"
   ]
  },
  {
   "cell_type": "code",
   "execution_count": null,
   "metadata": {
    "_kg_hide-input": true
   },
   "outputs": [],
   "source": [
    "plt.figure(figsize=(20, 12))\n",
    "plt.plot(adjusted_dates, total_deaths, color='r')\n",
    "plt.plot(adjusted_dates, total_recovered, color='green')\n",
    "plt.legend(['death', 'recoveries'], loc='best', fontsize=20)\n",
    "plt.title('# of Coronavirus Cases', size=30)\n",
    "plt.xlabel('Time', size=30)\n",
    "plt.ylabel('# of Cases', size=30)\n",
    "plt.xticks(rotation=50, size=15)\n",
    "plt.show()"
   ]
  },
  {
   "cell_type": "markdown",
   "metadata": {},
   "source": [
    "Plotting the number of deaths against the number of recoveries"
   ]
  },
  {
   "cell_type": "code",
   "execution_count": null,
   "metadata": {
    "_kg_hide-input": true
   },
   "outputs": [],
   "source": [
    "plt.figure(figsize=(20, 12))\n",
    "plt.plot(total_recovered, total_deaths)\n",
    "plt.title('# of Coronavirus Deaths vs. # of Coronavirus Recoveries', size=30)\n",
    "plt.xlabel('# of Coronavirus Recoveries', size=30)\n",
    "plt.ylabel('# of Coronavirus Deaths', size=30)\n",
    "plt.xticks(size=15)\n",
    "plt.show()"
   ]
  },
  {
   "cell_type": "code",
   "execution_count": null,
   "metadata": {
    "_kg_hide-input": true,
    "_kg_hide-output": true
   },
   "outputs": [],
   "source": [
    "latest_confirmed = confirmed_df[dates[-1]]\n",
    "latest_deaths = deaths_df[dates[-1]]\n",
    "latest_recoveries = recoveries_df[dates[-1]]"
   ]
  },
  {
   "cell_type": "markdown",
   "metadata": {},
   "source": [
    "Getting information about countries/regions that have confirmed coronavirus cases"
   ]
  },
  {
   "cell_type": "code",
   "execution_count": null,
   "metadata": {
    "_kg_hide-input": true,
    "_kg_hide-output": true
   },
   "outputs": [],
   "source": [
    "unique_countries =  list(confirmed_df['Country/Region'].unique())"
   ]
  },
  {
   "cell_type": "code",
   "execution_count": null,
   "metadata": {
    "_kg_hide-input": true
   },
   "outputs": [],
   "source": [
    "country_confirmed_cases = []\n",
    "no_cases = []\n",
    "for i in unique_countries:\n",
    "    cases = latest_confirmed[confirmed_df['Country/Region']==i].sum()\n",
    "    if cases > 0:\n",
    "        country_confirmed_cases.append(cases)\n",
    "    else:\n",
    "        no_cases.append(i)\n",
    "        \n",
    "for i in no_cases:\n",
    "    unique_countries.remove(i)"
   ]
  },
  {
   "cell_type": "code",
   "execution_count": null,
   "metadata": {
    "_kg_hide-input": true,
    "_kg_hide-output": false
   },
   "outputs": [],
   "source": [
    "# number of cases per country/region\n",
    "for i in range(len(unique_countries)):\n",
    "    print(f'{unique_countries[i]}: {country_confirmed_cases[i]} cases')"
   ]
  },
  {
   "cell_type": "code",
   "execution_count": null,
   "metadata": {
    "_kg_hide-input": true
   },
   "outputs": [],
   "source": [
    "unique_provinces =  list(confirmed_df['Province/State'].unique())"
   ]
  },
  {
   "cell_type": "markdown",
   "metadata": {},
   "source": [
    "Getting the latest information about provinces/states that have confirmed coronavirus cases"
   ]
  },
  {
   "cell_type": "code",
   "execution_count": null,
   "metadata": {
    "_kg_hide-input": true
   },
   "outputs": [],
   "source": [
    "province_confirmed_cases = []\n",
    "no_cases = [] \n",
    "for i in unique_provinces:\n",
    "    cases = latest_confirmed[confirmed_df['Province/State']==i].sum()\n",
    "    if cases > 0:\n",
    "        province_confirmed_cases.append(cases)\n",
    "    else:\n",
    "        no_cases.append(i)\n",
    " \n",
    "# remove areas with no confirmed cases\n",
    "for i in no_cases:\n",
    "    unique_provinces.remove(i)"
   ]
  },
  {
   "cell_type": "code",
   "execution_count": null,
   "metadata": {
    "_kg_hide-input": true
   },
   "outputs": [],
   "source": [
    "# number of cases per province/state/city\n",
    "\n",
    "for i in range(len(unique_provinces)):\n",
    "    print(f'{unique_provinces[i]}: {province_confirmed_cases[i]} cases')"
   ]
  },
  {
   "cell_type": "code",
   "execution_count": null,
   "metadata": {
    "_kg_hide-input": true
   },
   "outputs": [],
   "source": [
    "nan_indices = [] \n",
    "\n",
    "# handle nan if there is any, it is usually a float: float('nan')\n",
    "\n",
    "for i in range(len(unique_provinces)):\n",
    "    if type(unique_provinces[i]) == float:\n",
    "        nan_indices.append(i)\n",
    "\n",
    "unique_provinces = list(unique_provinces)\n",
    "province_confirmed_cases = list(province_confirmed_cases)\n",
    "\n",
    "for i in nan_indices:\n",
    "    unique_provinces.pop(i)\n",
    "    province_confirmed_cases.pop(i)"
   ]
  },
  {
   "cell_type": "code",
   "execution_count": null,
   "metadata": {
    "_kg_hide-input": true
   },
   "outputs": [],
   "source": [
    "china_confirmed = latest_confirmed[confirmed_df['Country/Region']=='China'].sum()\n",
    "outside_mainland_china_confirmed = np.sum(country_confirmed_cases) - china_confirmed\n",
    "plt.figure(figsize=(16, 9))\n",
    "plt.barh('Mainland China', china_confirmed)\n",
    "plt.barh('Outside Mainland China', outside_mainland_china_confirmed)\n",
    "plt.title('# of Coronavirus Confirmed Cases')\n",
    "plt.show()"
   ]
  },
  {
   "cell_type": "code",
   "execution_count": null,
   "metadata": {
    "_kg_hide-input": false
   },
   "outputs": [],
   "source": [
    "print('Outside Mainland China {} cases:'.format(outside_mainland_china_confirmed))\n",
    "print('Mainland China: {} cases'.format(china_confirmed))\n",
    "print('Total: {} cases'.format(china_confirmed+outside_mainland_china_confirmed))"
   ]
  },
  {
   "cell_type": "markdown",
   "metadata": {},
   "source": [
    "***Visual Representations*** (bar charts and pie charts)"
   ]
  },
  {
   "cell_type": "code",
   "execution_count": null,
   "metadata": {
    "_kg_hide-input": true
   },
   "outputs": [],
   "source": [
    "plt.figure(figsize=(32, 18))\n",
    "plt.barh(unique_countries, country_confirmed_cases)\n",
    "plt.title('# of Covid-19 Confirmed Cases in Countries/Regions')\n",
    "plt.xlabel('# of Covid19 Confirmed Cases')\n",
    "plt.show()"
   ]
  },
  {
   "cell_type": "code",
   "execution_count": null,
   "metadata": {
    "_kg_hide-input": true
   },
   "outputs": [],
   "source": [
    "# lets look at it in a logarithmic scale \n",
    "log_country_confirmed_cases = [math.log10(i) for i in country_confirmed_cases]\n",
    "plt.figure(figsize=(32, 18))\n",
    "plt.barh(unique_countries, log_country_confirmed_cases)\n",
    "plt.title('Log of Common Log # of Coronavirus Confirmed Cases in Countries/Regions')\n",
    "plt.show()"
   ]
  },
  {
   "cell_type": "code",
   "execution_count": null,
   "metadata": {
    "_kg_hide-input": true
   },
   "outputs": [],
   "source": [
    "plt.figure(figsize=(32, 18))\n",
    "plt.barh(unique_provinces, province_confirmed_cases)\n",
    "plt.title('# of Coronavirus Confirmed Cases in Provinces/States')\n",
    "plt.show()"
   ]
  },
  {
   "cell_type": "code",
   "execution_count": null,
   "metadata": {},
   "outputs": [],
   "source": [
    "log_province_confirmed_cases = [math.log10(i) for i in province_confirmed_cases]\n",
    "plt.figure(figsize=(32, 18))\n",
    "plt.barh(unique_provinces, log_province_confirmed_cases)\n",
    "plt.title('Log of # of Coronavirus Confirmed Cases in Provinces/States')\n",
    "plt.show()"
   ]
  },
  {
   "cell_type": "code",
   "execution_count": null,
   "metadata": {
    "_kg_hide-input": true
   },
   "outputs": [],
   "source": [
    "c = random.choices(list(mcolors.CSS4_COLORS.values()),k = len(unique_countries))\n",
    "plt.figure(figsize=(20,20))\n",
    "plt.title('Covid-19 Confirmed Cases per Country')\n",
    "plt.pie(country_confirmed_cases, colors=c)\n",
    "plt.legend(unique_countries, loc='best')\n",
    "plt.show()"
   ]
  },
  {
   "cell_type": "code",
   "execution_count": null,
   "metadata": {
    "_kg_hide-input": true
   },
   "outputs": [],
   "source": [
    "c = random.choices(list(mcolors.CSS4_COLORS.values()),k = len(unique_countries))\n",
    "plt.figure(figsize=(20,20))\n",
    "plt.title('Covid-19 Confirmed Cases per State/Province/Region')\n",
    "plt.pie(province_confirmed_cases, colors=c)\n",
    "plt.legend(unique_provinces, loc='best')\n",
    "plt.show()"
   ]
  },
  {
   "cell_type": "code",
   "execution_count": null,
   "metadata": {
    "_kg_hide-input": true
   },
   "outputs": [],
   "source": [
    "c = random.choices(list(mcolors.CSS4_COLORS.values()),k = len(unique_countries))\n",
    "plt.figure(figsize=(20,20))\n",
    "plt.title('Covid-19 Confirmed Cases in Countries Outside of Mainland China')\n",
    "plt.pie(country_confirmed_cases[1:], colors=c)\n",
    "plt.legend(unique_countries[1:], loc='best')\n",
    "plt.show()"
   ]
  },
  {
   "cell_type": "code",
   "execution_count": null,
   "metadata": {
    "_kg_hide-input": true
   },
   "outputs": [],
   "source": [
    "us_regions = list(confirmed_df[confirmed_df['Country/Region']=='US']['Province/State'].unique())\n",
    "us_confirmed_cases = []\n",
    "no_cases = [] \n",
    "for i in us_regions:\n",
    "    cases = latest_confirmed[confirmed_df['Province/State']==i].sum()\n",
    "    if cases > 0:\n",
    "        us_confirmed_cases.append(cases)\n",
    "    else:\n",
    "        no_cases.append(i)\n",
    " \n",
    "# remove areas with no confirmed cases\n",
    "for i in no_cases:\n",
    "    us_regions.remove(i)"
   ]
  },
  {
   "cell_type": "code",
   "execution_count": null,
   "metadata": {
    "_kg_hide-input": true
   },
   "outputs": [],
   "source": [
    "c = random.choices(list(mcolors.CSS4_COLORS.values()),k = len(unique_countries))\n",
    "plt.figure(figsize=(20,20))\n",
    "plt.title('Covid-19 Confirmed Cases in the United States')\n",
    "plt.pie(us_confirmed_cases, colors=c)\n",
    "plt.legend(us_regions, loc='best')\n",
    "plt.show()"
   ]
  },
  {
   "cell_type": "code",
   "execution_count": null,
   "metadata": {
    "_kg_hide-input": true
   },
   "outputs": [],
   "source": [
    "china_regions = list(confirmed_df[confirmed_df['Country/Region']=='China']['Province/State'].unique())\n",
    "china_confirmed_cases = []\n",
    "no_cases = [] \n",
    "for i in china_regions:\n",
    "    cases = latest_confirmed[confirmed_df['Province/State']==i].sum()\n",
    "    if cases > 0:\n",
    "        china_confirmed_cases.append(cases)\n",
    "    else:\n",
    "        no_cases.append(i)\n",
    " \n",
    "# remove areas with no confirmed cases\n",
    "for i in no_cases:\n",
    "    china_confirmed_cases.remove(i)"
   ]
  },
  {
   "cell_type": "code",
   "execution_count": null,
   "metadata": {
    "_kg_hide-input": true
   },
   "outputs": [],
   "source": [
    "c = random.choices(list(mcolors.CSS4_COLORS.values()),k = len(unique_countries))\n",
    "plt.figure(figsize=(20,20))\n",
    "plt.title('Covid-19 Confirmed Cases in the Mainland China')\n",
    "plt.pie(china_confirmed_cases, colors=c)\n",
    "plt.legend(china_regions, loc='best')\n",
    "plt.show()"
   ]
  }
 ],
 "metadata": {
  "kernelspec": {
   "display_name": "Python 3",
   "language": "python",
   "name": "python3"
  },
  "language_info": {
   "codemirror_mode": {
    "name": "ipython",
    "version": 3
   },
   "file_extension": ".py",
   "mimetype": "text/x-python",
   "name": "python",
   "nbconvert_exporter": "python",
   "pygments_lexer": "ipython3",
   "version": "3.7.4"
  }
 },
 "nbformat": 4,
 "nbformat_minor": 4
}
