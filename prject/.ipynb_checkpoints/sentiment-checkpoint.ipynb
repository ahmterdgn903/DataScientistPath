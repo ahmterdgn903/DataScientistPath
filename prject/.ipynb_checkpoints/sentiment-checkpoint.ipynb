{
 "cells": [
  {
   "cell_type": "markdown",
   "metadata": {},
   "source": [
    "# Imports"
   ]
  },
  {
   "cell_type": "code",
   "execution_count": 36,
   "metadata": {},
   "outputs": [],
   "source": [
    "from sklearn.feature_extraction.text import CountVectorizer\n",
    "from sklearn.naive_bayes import BernoulliNB\n",
    "from sklearn.metrics import confusion_matrix\n",
    "\n",
    "import numpy as np\n",
    "import itertools\n",
    "import matplotlib.pyplot as plt\n",
    "import pandas as pd"
   ]
  },
  {
   "cell_type": "markdown",
   "metadata": {},
   "source": [
    "## Open Datasets"
   ]
  },
  {
   "cell_type": "code",
   "execution_count": 37,
   "metadata": {},
   "outputs": [
    {
     "name": "stdout",
     "output_type": "stream",
     "text": [
      "['a+', 1]\n",
      "['abound', 1]\n",
      "['abundance', 1]\n",
      "['movie', 0]\n"
     ]
    }
   ],
   "source": [
    "from itertools import zip_longest\n",
    "def get_all_data():\n",
    "    positive_words = []\n",
    "    negative_words = []\n",
    "    for word in open('positive_words.txt', 'r',encoding = \"ISO-8859-1\").readlines()[35:]:\n",
    "     positive_words.append([word.rstrip(), 1])\n",
    "    for word in open('negative_words.txt', 'r', encoding = \"ISO-8859-1\").readlines()[35:]:\n",
    "     negative_words.append([word.rstrip(), 0])\n",
    "    data = positive_words + negative_words\n",
    "#     data = []\n",
    "#     [data.append(row1) if len(data)%2==0 and row1 !=None else data.append(row2) for (row1,row2) in zip_longest(positive_words,negative_words)]\n",
    "#     # [data.remove(row) for row in data if row==None]\n",
    "    return data\n",
    "data = get_all_data()\n",
    "# [data.remove(row) for row in data if row==None]\n",
    "print(data[0])\n",
    "print(data[1])\n",
    "print(data[3])\n",
    "print(data[100000])"
   ]
  },
  {
   "cell_type": "markdown",
   "metadata": {},
   "source": [
    "## Training Step"
   ]
  },
  {
   "cell_type": "code",
   "execution_count": 38,
   "metadata": {},
   "outputs": [],
   "source": [
    "def training_step(data, vectorizer):\n",
    "    training_text = [data[0] for data in data]\n",
    "    training_result = [data[1] for data in data]\n",
    "\n",
    "    training_text = vectorizer.fit_transform(training_text)\n",
    "\n",
    "    return BernoulliNB().fit(training_text, training_result)"
   ]
  },
  {
   "cell_type": "markdown",
   "metadata": {},
   "source": [
    "## Score Step"
   ]
  },
  {
   "cell_type": "code",
   "execution_count": 39,
   "metadata": {},
   "outputs": [
    {
     "data": {
      "text/plain": [
       "1"
      ]
     },
     "execution_count": 39,
     "metadata": {},
     "output_type": "execute_result"
    }
   ],
   "source": [
    "# training_data, evaluation_data = preprocessing_step()\n",
    "vectorizer = CountVectorizer(binary = 'true')\n",
    "classifier = training_step(get_all_data(), vectorizer)\n",
    "result = classifier.predict(vectorizer.transform([\"I love this movie!\"]))\n",
    "\n",
    "result[0]"
   ]
  },
  {
   "cell_type": "code",
   "execution_count": 40,
   "metadata": {},
   "outputs": [
    {
     "data": {
      "text/plain": [
       "('Best product ever', array([1]))"
      ]
     },
     "execution_count": 40,
     "metadata": {},
     "output_type": "execute_result"
    }
   ],
   "source": [
    "def analyse_text(classifier, vectorizer, text):\n",
    "    return text, classifier.predict(vectorizer.transform([text]))\n",
    "\n",
    "new_result = analyse_text(classifier, vectorizer, \"Best product ever\")\n",
    "new_result"
   ]
  },
  {
   "cell_type": "code",
   "execution_count": 41,
   "metadata": {},
   "outputs": [
    {
     "name": "stdout",
     "output_type": "stream",
     "text": [
      "Best product ever : Positive\n"
     ]
    }
   ],
   "source": [
    "def print_result(result):\n",
    "    text, analysis_result = result\n",
    "    print_text = \"Positive\" if analysis_result[0] == 1 else \"Negative\"\n",
    "    print(text, \":\", print_text)\n",
    "    \n",
    "print_result(new_result)"
   ]
  },
  {
   "cell_type": "markdown",
   "metadata": {},
   "source": [
    "### More examples"
   ]
  },
  {
   "cell_type": "code",
   "execution_count": 42,
   "metadata": {
    "scrolled": true
   },
   "outputs": [
    {
     "name": "stdout",
     "output_type": "stream",
     "text": [
      "this is the best movie : Positive\n",
      "this is the worst movie : Negative\n",
      "awesome! : Positive\n",
      "10/10 : Negative\n",
      "so bad : Negative\n",
      "nice : Positive\n"
     ]
    }
   ],
   "source": [
    "print_result( analyse_text(classifier, vectorizer,\"this is the best movie\"))\n",
    "print_result( analyse_text(classifier, vectorizer,\"this is the worst movie\"))\n",
    "print_result( analyse_text(classifier, vectorizer,\"awesome!\"))\n",
    "print_result( analyse_text(classifier, vectorizer,\"10/10\"))\n",
    "print_result( analyse_text(classifier, vectorizer,\"so bad\"))\n",
    "print_result( analyse_text(classifier, vectorizer,\"nice\"))"
   ]
  },
  {
   "cell_type": "code",
   "execution_count": 64,
   "metadata": {},
   "outputs": [],
   "source": [
    "stopwords = [\"wouldn't\", 'own', 'ours', 'under', \"who's\", 'also', \"here's\", 'could', 'have', 'but', 'com', 'ourselves', \"where's\", 'at', \"they'd\", 'hence', 'doing', \"you're\", \"how's\", 'r', 'yours', 'against', 'same', \"i'd\", 'which', 'more', 'very', 'whom', 'ought', 'http', 'for', 'was', 'most', 'of', 'his', 'are', 'so', 'did', 'am', \"she'll\", 'been', 'up', 'does', 'after', 'few', 'until', \"they're\", 'it', 'both', 'their', 'the', \"there's\", \"can't\", 'into', \"he's\", 'they', 'through', \"why's\", 'get', 'all', 'them', 'herself', \"we'll\", 'if', 'can', 'out', \"i'm\", 'and', 'because', \"it's\", \"they've\", \"isn't\", 'were', 'some', 'than', \"wasn't\", 'too', \"that's\", \"they'll\", 'that', \"haven't\", 'such', \"i've\", 'while', 'why', 'like', 'should', 'to', \"you'll\", 'hers', 'you', 'then', 'however', 'down', 'before', \"she's\", 'any', \"what's\", \"he'd\", 'here', 'www', \"didn't\", \"you've\", 'cannot', 'above', 'her', 'from', \"shan't\", \"you'd\", 'yourselves', 'an', \"aren't\", 'only', 'theirs', \"we'd\", 'on', 'having', 'each', 'else', 'who', 'or', \"i'll\", 'had', 'as', \"mustn't\", \"couldn't\", \"weren't\", 'me', 'further', 'over', 'where', 'when', 'no', 'being', \"she'd\", 'about', 'those', 'in', 'she', \"when's\", 'has', 'its', 'how', \"don't\", \"hadn't\", 'just', \"we're\", 'him', 'himself', 'once', 'he', 'since', 'again', 'my', 'this', \"we've\", 'off', 'would', 'not', 'these', 'your', 'therefore', 'themselves', 'our', 'is', 'between', 'ever', \"won't\", \"he'll\", 'i', 'do', \"let's\", 'with', \"hasn't\", 'k', 'otherwise', \"doesn't\", 'we', 'by', 'itself', 'shall', 'be', \"shouldn't\", 'below', 'during', 'myself', 'nor', 'what', 'other', 'there', 'yourself', 'a', 'mightn', 'mustn', 't', \"mightn't\", 'haven', 'don', 'isn', 's', 'wouldn', 'will', 'needn', 'hadn', 'll', 'couldn', 'aren', 'wasn', 'ain', 'm', 'didn', 'won', \"that'll\", \"should've\", \"needn't\", 're', 'o', 'doesn', 've', 'y', 'ma', 'now', 'd', 'shan', 'shouldn', 'hasn', 'weren']"
   ]
  },
  {
   "cell_type": "code",
   "execution_count": 89,
   "metadata": {},
   "outputs": [
    {
     "name": "stdout",
     "output_type": "stream",
     "text": [
      "('NancyLeeGrahn How everyone feel Climate Change question last night Exactly GOPDebate', 0)\n"
     ]
    }
   ],
   "source": [
    "import re,csv\n",
    "def get_evaluation_data(file):\n",
    "    evaluation_data = []\n",
    "    with open(file,'r') as csv_file:\n",
    "        csv_reader = csv.DictReader(csv_file)\n",
    "        for row in csv_reader:\n",
    "            words = \" \".join([word for word in (re.findall(r\"[\\w']+|[.,!?;]\", row['text'].rstrip())) if len(word) >= 3 and word not in stopwords])\n",
    "            if row['sentiment'] == 'Positive':\n",
    "                evaluation_data.append([words,1])\n",
    "            else:\n",
    "                evaluation_data.append((words,0))\n",
    "    #         # print(words)\n",
    "    #         if row['sentiment'] == 'Negative':\n",
    "    #             # print(words)\n",
    "    #             [neg_file.write(word+'\\n') for word in words]\n",
    "    #             elif row['sentiment'] == 'Positive':\n",
    "    #                 [pos_file.write(word+'\\n') for word in words\n",
    "    return evaluation_data\n",
    "print(get_evaluation_data('Sentiment.csv')[0])"
   ]
  },
  {
   "cell_type": "markdown",
   "metadata": {},
   "source": [
    "## Evaluation Step"
   ]
  },
  {
   "cell_type": "code",
   "execution_count": 73,
   "metadata": {},
   "outputs": [
    {
     "data": {
      "text/plain": [
       "0.0"
      ]
     },
     "execution_count": 73,
     "metadata": {},
     "output_type": "execute_result"
    }
   ],
   "source": [
    "def simple_evaluation(evaluation_data):\n",
    "    evaluation_text     = [evaluation_data[0] for evaluation_data in evaluation_data]\n",
    "    evaluation_result   = [evaluation_data[1] for evaluation_data in evaluation_data]\n",
    "\n",
    "    total = len(evaluation_text)\n",
    "    corrects = 0\n",
    "    for index in range(0, total):\n",
    "        analysis_result = analyse_text(classifier, vectorizer, evaluation_text[index])\n",
    "        text, result = analysis_result\n",
    "        corrects += 1 if result[0] == evaluation_result[index] else 0\n",
    "\n",
    "    return corrects * 100 / total\n",
    "\n",
    "simple_evaluation(get_evaluation_data('Sentiment.csv'))"
   ]
  },
  {
   "cell_type": "markdown",
   "metadata": {},
   "source": [
    "### Confusion Matrix"
   ]
  },
  {
   "cell_type": "code",
   "execution_count": 12,
   "metadata": {},
   "outputs": [],
   "source": [
    "def create_confusion_matrix(evaluation_data):\n",
    "    evaluation_text     = [evaluation_data[0] for evaluation_data in evaluation_data]\n",
    "    actual_result       = [evaluation_data[1] for evaluation_data in evaluation_data]\n",
    "    prediction_result   = []\n",
    "    for text in evaluation_text:\n",
    "        analysis_result = analyse_text(classifier, vectorizer, text)\n",
    "        prediction_result.append(analysis_result[1][0])\n",
    "    \n",
    "    matrix = confusion_matrix(actual_result, prediction_result)\n",
    "    return matrix\n",
    "    \n",
    "confusion_matrix_result = create_confusion_matrix(evaluation_data)"
   ]
  },
  {
   "cell_type": "markdown",
   "metadata": {},
   "source": [
    "## Data Frame"
   ]
  },
  {
   "cell_type": "code",
   "execution_count": 13,
   "metadata": {},
   "outputs": [
    {
     "data": {
      "text/html": [
       "<div>\n",
       "<style scoped>\n",
       "    .dataframe tbody tr th:only-of-type {\n",
       "        vertical-align: middle;\n",
       "    }\n",
       "\n",
       "    .dataframe tbody tr th {\n",
       "        vertical-align: top;\n",
       "    }\n",
       "\n",
       "    .dataframe thead th {\n",
       "        text-align: right;\n",
       "    }\n",
       "</style>\n",
       "<table border=\"1\" class=\"dataframe\">\n",
       "  <thead>\n",
       "    <tr style=\"text-align: right;\">\n",
       "      <th></th>\n",
       "      <th>Negatives</th>\n",
       "      <th>Positives</th>\n",
       "    </tr>\n",
       "  </thead>\n",
       "  <tbody>\n",
       "    <tr>\n",
       "      <td>Negatives</td>\n",
       "      <td>322</td>\n",
       "      <td>64</td>\n",
       "    </tr>\n",
       "    <tr>\n",
       "      <td>Positives</td>\n",
       "      <td>71</td>\n",
       "      <td>293</td>\n",
       "    </tr>\n",
       "  </tbody>\n",
       "</table>\n",
       "</div>"
      ],
      "text/plain": [
       "           Negatives  Positives\n",
       "Negatives        322         64\n",
       "Positives         71        293"
      ]
     },
     "execution_count": 13,
     "metadata": {},
     "output_type": "execute_result"
    }
   ],
   "source": [
    "pandas.DataFrame(confusion_matrix_result, columns=[\"Negatives\", \"Positives\"],index=[\"Negatives\", \"Positives\"])"
   ]
  },
  {
   "cell_type": "markdown",
   "metadata": {},
   "source": [
    "### Plot Confusion Matrix"
   ]
  },
  {
   "cell_type": "code",
   "execution_count": 14,
   "metadata": {},
   "outputs": [
    {
     "data": {
      "image/png": "[encoded data removed]",
      "text/plain": [
       "<Figure size 432x288 with 2 Axes>"
      ]
     },
     "metadata": {
      "needs_background": "light"
     },
     "output_type": "display_data"
    }
   ],
   "source": [
    "classes = [\"Negatives\", \"Positives\"]\n",
    "\n",
    "plt.figure()\n",
    "plt.imshow(confusion_matrix_result, interpolation='nearest', cmap=plt.cm.Blues)\n",
    "plt.title(\"Confusion Matrix - Sentiment Analysis\")\n",
    "plt.colorbar()\n",
    "tick_marks = np.arange(len(classes))\n",
    "plt.xticks(tick_marks, classes, rotation=45)\n",
    "plt.yticks(tick_marks, classes)\n",
    "\n",
    "text_format = 'd'\n",
    "thresh = confusion_matrix_result.max() / 2.\n",
    "for row, column in itertools.product(range(confusion_matrix_result.shape[0]), range(confusion_matrix_result.shape[1])):\n",
    "    plt.text(column, row, format(confusion_matrix_result[row, column], text_format),\n",
    "             horizontalalignment=\"center\",\n",
    "             color=\"white\" if confusion_matrix_result[row, column] > thresh else \"black\")\n",
    "\n",
    "plt.ylabel('True label')\n",
    "plt.xlabel('Predicted label')\n",
    "plt.tight_layout()\n",
    "\n",
    "plt.show()"
   ]
  },
  {
   "cell_type": "code",
   "execution_count": 15,
   "metadata": {},
   "outputs": [
    {
     "name": "stdout",
     "output_type": "stream",
     "text": [
      "Accuracy: 0.82\n",
      "Precision: 0.804945054945055\n",
      "Recall: 0.8207282913165266\n",
      "F1 Score: 0.812760055478502\n"
     ]
    }
   ],
   "source": [
    "true_negatives = confusion_matrix_result[0][0]\n",
    "false_negatives = confusion_matrix_result[0][1]\n",
    "false_positives = confusion_matrix_result[1][0]\n",
    "true_positives = confusion_matrix_result[1][1]\n",
    "\n",
    "accuracy = (true_positives + true_negatives) / (true_positives + true_negatives + false_positives + false_negatives)\n",
    "precision = true_positives / (true_positives + false_positives)\n",
    "recall = true_positives / (true_positives + false_negatives)\n",
    "f1_score = 2*(recall * precision) / (recall + precision)\n",
    "\n",
    "print('Accuracy:',accuracy)\n",
    "print('Precision:',precision)\n",
    "print('Recall:',recall)\n",
    "print('F1 Score:',f1_score)"
   ]
  },
  {
   "cell_type": "code",
   "execution_count": null,
   "metadata": {},
   "outputs": [],
   "source": []
  }
 ],
 "metadata": {
  "kernelspec": {
   "display_name": "Python 3",
   "language": "python",
   "name": "python3"
  },
  "language_info": {
   "codemirror_mode": {
    "name": "ipython",
    "version": 3
   },
   "file_extension": ".py",
   "mimetype": "text/x-python",
   "name": "python",
   "nbconvert_exporter": "python",
   "pygments_lexer": "ipython3",
   "version": "3.7.4"
  },
  "widgets": {
   "application/vnd.jupyter.widget-state+json": {
    "state": {},
    "version_major": 2,
    "version_minor": 0
   }
  }
 },
 "nbformat": 4,
 "nbformat_minor": 2
}
